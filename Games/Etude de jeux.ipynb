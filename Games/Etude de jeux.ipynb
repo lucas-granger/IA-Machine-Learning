{
 "cells": [
  {
   "cell_type": "code",
   "execution_count": 1,
   "metadata": {},
   "outputs": [
    {
     "name": "stdout",
     "output_type": "stream",
     "text": [
      "           id       type                                         name_en  \\\n",
      "0           1  boardgame                                      Die Macher   \n",
      "1           2  boardgame                                    Dragonmaster   \n",
      "2           3  boardgame                                         Samurai   \n",
      "3           4  boardgame                                  Tal der Könige   \n",
      "4           5  boardgame                                         Acquire   \n",
      "...       ...        ...                                             ...   \n",
      "11746  350736  boardgame                                         Voyages   \n",
      "11747  351817  boardgame                Marvel Zombies: A Zombicide Game   \n",
      "11748  353304  boardgame                                   First Empires   \n",
      "11749  353470  boardgame  Star Wars: Jabba's Palace – A Love Letter Game   \n",
      "11750  356033  boardgame                  Libertalia: Winds of Galecrest   \n",
      "\n",
      "       yearpublished  minplayers  maxplayers  playingtime  minplaytime  \\\n",
      "0             1986.0           3           5          240          240   \n",
      "1             1981.0           3           4           30           30   \n",
      "2             1998.0           2           4           60           30   \n",
      "3             1992.0           2           4           60           60   \n",
      "4             1964.0           2           6           90           90   \n",
      "...              ...         ...         ...          ...          ...   \n",
      "11746         2021.0           1         100           30           20   \n",
      "11747         2023.0           1           6            0           60   \n",
      "11748         2022.0           2           5           60           45   \n",
      "11749         2022.0           2           6           20           20   \n",
      "11750         2022.0           1           6           60           45   \n",
      "\n",
      "       maxplaytime  minage  ...   stddev  owned  trading  wanting  wishing  \\\n",
      "0              240      14  ...  1.57619   7615      243      500     2077   \n",
      "1               30      12  ...  1.46273   1311       63       71      190   \n",
      "2               60      10  ...  1.18352  15795      294      806     3502   \n",
      "3               60      12  ...  1.22784    650       39       56      123   \n",
      "4               90      12  ...  1.33647  24049      871      552     2723   \n",
      "...            ...     ...  ...      ...    ...      ...      ...      ...   \n",
      "11746           30       0  ...  1.04227   2178        3       25      313   \n",
      "11747            0      14  ...  4.13851    175        1       28      292   \n",
      "11748           60      14  ...  1.31253    329        6       67      381   \n",
      "11749           20      10  ...  1.03179   1795        6       41      276   \n",
      "11750           60      14  ...  1.74842   2464       11      192     1476   \n",
      "\n",
      "       numcomments  numweights  averageweight             publisher  \\\n",
      "0             2034         763         4.3211         Hans im Glück   \n",
      "1              310          54         1.9630             E.S. Lowe   \n",
      "2             3856        1462         2.4836  Fantasy Flight Games   \n",
      "3              120          30         2.6667                KOSMOS   \n",
      "4             5908        1623         2.5003                    3M   \n",
      "...            ...         ...            ...                   ...   \n",
      "11746          205          27         1.8519        Postmark Games   \n",
      "11747          131           6         2.3333   CMON Global Limited   \n",
      "11748           52          11         1.7273     Sand Castle Games   \n",
      "11749           75           9         1.8889           Z-Man Games   \n",
      "11750          230          46         2.0870      Stonemaier Games   \n",
      "\n",
      "                                             description  \n",
      "0      Die Macher is a game about seven sequential po...  \n",
      "1      Dragonmaster is a trick-taking card game based...  \n",
      "2      Samurai is set in medieval Japan. Players comp...  \n",
      "3      When you see the triangular box and the luxuri...  \n",
      "4      In Acquire, each player strategically invests ...  \n",
      "...                                                  ...  \n",
      "11746  Voyages is a roll-and-write game of open sea a...  \n",
      "11747  In Marvel Zombies: A Zombicide Game, the hunge...  \n",
      "11748  \"The time of small nations is past, the time o...  \n",
      "11749  The lair of Jabba, the Hutt is a place of dang...  \n",
      "11750  In the world of Galecrest, sky pirates set sai...  \n",
      "\n",
      "[11751 rows x 23 columns]\n"
     ]
    }
   ],
   "source": [
    "import pandas as pd\n",
    "\n",
    "# Remplacez 'nom_du_fichier.csv' par le chemin de votre fichier CSV\n",
    "# Si le fichier est dans le même répertoire que votre script, vous pouvez simplement mettre son nom\n",
    "games = './games.csv'\n",
    "\n",
    "# Charger le fichier CSV dans un dataframe\n",
    "dataframe = pd.read_csv(games)\n",
    "\n",
    "# Maintenant, vous pouvez utiliser le dataframe comme bon vous semble, par exemple l'afficher\n",
    "print(dataframe)\n"
   ]
  },
  {
   "cell_type": "code",
   "execution_count": null,
   "metadata": {},
   "outputs": [],
   "source": []
  }
 ],
 "metadata": {
  "kernelspec": {
   "display_name": "Python 3",
   "language": "python",
   "name": "python3"
  },
  "language_info": {
   "codemirror_mode": {
    "name": "ipython",
    "version": 3
   },
   "file_extension": ".py",
   "mimetype": "text/x-python",
   "name": "python",
   "nbconvert_exporter": "python",
   "pygments_lexer": "ipython3",
   "version": "3.12.0"
  }
 },
 "nbformat": 4,
 "nbformat_minor": 2
}
